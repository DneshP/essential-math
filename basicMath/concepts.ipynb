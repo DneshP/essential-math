{
 "cells": [
  {
   "cell_type": "markdown",
   "metadata": {},
   "source": [
    "# Euler's number\n",
    "\n",
    "This constant is used in mathematical computation to simply by using approximation.\n",
    "e ~= 2.71828\n",
    "\n",
    "\\[ e = \\lim_{n \\to \\infty} \\left(1 + \\frac{1}{n}\\right)^n \\]\n",
    "\n",
    "As \\(n\\) approaches infinity, the expression \\(\\left(1 + \\frac{1}{n}\\right)^n\\) converges to the value of \\(e\\).\n",
    "\n",
    "The euler's constant is used in the following operations:\n",
    "* logarithm operations which is the default base value\n",
    "* used in calculation of compount interest"
   ]
  }
 ],
 "metadata": {
  "language_info": {
   "name": "python"
  }
 },
 "nbformat": 4,
 "nbformat_minor": 2
}
