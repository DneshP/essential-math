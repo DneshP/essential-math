{
 "cells": [
  {
   "cell_type": "markdown",
   "metadata": {},
   "source": [
    "# Euler's Number\n",
    "\n",
    "Euler's number is a mathematical constant used in computations, approximately equal to 2.71828.\n",
    "\n",
    "\\[ e = \\lim_{n \\to \\infty} \\left(1 + \\frac{1}{n}\\right)^n \\]\n",
    "\n",
    "As \\(n\\) approaches infinity, the expression \\(\\left(1 + \\frac{1}{n}\\right)^n\\) converges to the value of \\(e\\).\n",
    "\n",
    "Euler's constant is utilized in various mathematical operations, including:\n",
    "- Logarithmic operations, where it serves as the default base value.\n",
    "- Calculations involving compound interest.\n",
    "\n",
    "# Limits\n",
    "\n",
    "The limit of \\(f(x)\\) as \\(x\\) approaches \\(c\\):\n",
    "\n",
    "\\[ \\lim_{{x \\to c}} f(x) = L \\]\n",
    "\n",
    "This represents that as \\(x\\) gets arbitrarily close to \\(c\\), the values of \\(f(x)\\) get arbitrarily close to \\(L\\).\n",
    "\n",
    "Limits are used to describe the behavior of a function as the input approaches a certain value.\n",
    "\n",
    "# Derivative\n",
    "\n",
    "The derivative is a crucial concept used to identify the rate of change when there is a change in the input value. If \\(f(x)\\) is the original function, the derivative \\(f'(x)\\) at \\(x_o\\) represents the rate of change at that specific point of input."
   ]
  }
 ],
 "metadata": {
  "language_info": {
   "name": "python"
  }
 },
 "nbformat": 4,
 "nbformat_minor": 2
}
